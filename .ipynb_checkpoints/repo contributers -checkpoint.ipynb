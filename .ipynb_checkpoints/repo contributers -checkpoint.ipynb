{
 "cells": [
  {
   "cell_type": "code",
   "execution_count": 6,
   "metadata": {},
   "outputs": [],
   "source": [
    "import requests \n",
    "import config\n",
    "import re\n",
    "import json\n",
    "from requests.auth import HTTPBasicAuth"
   ]
  },
  {
   "cell_type": "code",
   "execution_count": 44,
   "metadata": {},
   "outputs": [],
   "source": [
    "redirect_url='\"https://www.google.com/?client=safari\"'\n",
    "#This url is where the code will show up\n",
    "\n",
    "data1={\"client_id\":config.client_id,\"login\":config.login,\n",
    "       \"state\":config.state,\n",
    "       \"redirect_uri\":redirect_url,\n",
    "       \"scope\":\"user\"}\n",
    "\n",
    "# Authentication request\n",
    "response=requests.get('https://github.com/login/oauth/authorize',params=data1)"
   ]
  },
  {
   "cell_type": "code",
   "execution_count": 46,
   "metadata": {},
   "outputs": [
    {
     "name": "stdout",
     "output_type": "stream",
     "text": [
      "<Response [200]>\n"
     ]
    }
   ],
   "source": [
    "data2={'client_id':config.client_id,\n",
    "       'client_secret':config.client_secret,\n",
    "       'code':config.code,\n",
    "       'redirect_uri':redirect_url,\n",
    "       'state':config.state}\n",
    "\n",
    "response=requests.post('https://github.com/login/oauth/access_token',params=data2)\n",
    "print(response)\n",
    "#200 means the connection is sucessful"
   ]
  },
  {
   "cell_type": "code",
   "execution_count": 39,
   "metadata": {},
   "outputs": [],
   "source": [
    "token=config.token_two\n",
    "organization_name ='commaai'\n",
    "repository_name='openpilot'"
   ]
  },
  {
   "cell_type": "code",
   "execution_count": 40,
   "metadata": {},
   "outputs": [],
   "source": [
    "headers={'Authorization':token}\n",
    "response=requests.get(f'https://api.github.com/repos/{organization_name}/{repository_name}/stats/contributors',\n",
    "                      headers=headers)"
   ]
  },
  {
   "cell_type": "code",
   "execution_count": 41,
   "metadata": {},
   "outputs": [
    {
     "name": "stdout",
     "output_type": "stream",
     "text": [
      "wocsor 1\n",
      "nelsonjchen 1\n",
      "mosh-een 1\n",
      "kishkaru 1\n",
      "kengggg 1\n",
      "jpancotti 1\n",
      "gaurav1086 1\n",
      "che220 1\n",
      "bharel 1\n",
      "andrewcopenpilot 1\n",
      "IppSec 1\n",
      "gregjhogan 2\n",
      "csouers 2\n",
      "cfranhonda 2\n",
      "adhintz 2\n",
      "valish 3\n",
      "robbederks 3\n",
      "arne182 6\n",
      "illumiN8i 11\n",
      "rbiasini 12\n",
      "andyh2 13\n",
      "ZwX1616 14\n",
      "quillford 17\n",
      "HaraldSchafer 39\n",
      "geohot 44\n",
      "pd0wm 124\n"
     ]
    }
   ],
   "source": [
    "for i in response.json(): \n",
    "    print(i.get('author').get('login'),i.get('total'))"
   ]
  }
 ],
 "metadata": {
  "kernelspec": {
   "display_name": "Python 3",
   "language": "python",
   "name": "python3"
  },
  "language_info": {
   "codemirror_mode": {
    "name": "ipython",
    "version": 3
   },
   "file_extension": ".py",
   "mimetype": "text/x-python",
   "name": "python",
   "nbconvert_exporter": "python",
   "pygments_lexer": "ipython3",
   "version": "3.7.1"
  }
 },
 "nbformat": 4,
 "nbformat_minor": 2
}
