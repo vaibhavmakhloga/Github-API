{
 "cells": [
  {
   "cell_type": "code",
   "execution_count": 20,
   "metadata": {},
   "outputs": [],
   "source": [
    "import requests\n",
    "import json\n",
    "from requests.auth import HTTPBasicAuth\n",
    "import config\n",
    "import re"
   ]
  },
  {
   "cell_type": "code",
   "execution_count": 11,
   "metadata": {},
   "outputs": [
    {
     "name": "stdout",
     "output_type": "stream",
     "text": [
      "https://api.github.com/repos/google/go-cloud\n"
     ]
    }
   ],
   "source": [
    "# Making the get request to the desired website \n",
    "# Basic Authentication is used \n",
    "\n",
    "fetch_url=requests.get('https://api.github.com/repos/google/go-cloud',auth=(config.username,config.password))\n",
    "print(fetch_url.url)"
   ]
  },
  {
   "cell_type": "code",
   "execution_count": 12,
   "metadata": {},
   "outputs": [
    {
     "name": "stdout",
     "output_type": "stream",
     "text": [
      "200\n"
     ]
    }
   ],
   "source": [
    "# 200 code means sucessful connection\n",
    "print(fetch_url.status_code)"
   ]
  },
  {
   "cell_type": "code",
   "execution_count": 14,
   "metadata": {},
   "outputs": [
    {
     "data": {
      "text/plain": [
       "{'id': 126250425,\n",
       " 'node_id': 'MDEwOlJlcG9zaXRvcnkxMjYyNTA0MjU=',\n",
       " 'name': 'go-cloud',\n",
       " 'full_name': 'google/go-cloud',\n",
       " 'private': False,\n",
       " 'owner': {'login': 'google',\n",
       "  'id': 1342004,\n",
       "  'node_id': 'MDEyOk9yZ2FuaXphdGlvbjEzNDIwMDQ=',\n",
       "  'avatar_url': 'https://avatars1.githubusercontent.com/u/1342004?v=4',\n",
       "  'gravatar_id': '',\n",
       "  'url': 'https://api.github.com/users/google',\n",
       "  'html_url': 'https://github.com/google',\n",
       "  'followers_url': 'https://api.github.com/users/google/followers',\n",
       "  'following_url': 'https://api.github.com/users/google/following{/other_user}',\n",
       "  'gists_url': 'https://api.github.com/users/google/gists{/gist_id}',\n",
       "  'starred_url': 'https://api.github.com/users/google/starred{/owner}{/repo}',\n",
       "  'subscriptions_url': 'https://api.github.com/users/google/subscriptions',\n",
       "  'organizations_url': 'https://api.github.com/users/google/orgs',\n",
       "  'repos_url': 'https://api.github.com/users/google/repos',\n",
       "  'events_url': 'https://api.github.com/users/google/events{/privacy}',\n",
       "  'received_events_url': 'https://api.github.com/users/google/received_events',\n",
       "  'type': 'Organization',\n",
       "  'site_admin': False},\n",
       " 'html_url': 'https://github.com/google/go-cloud',\n",
       " 'description': 'The Go Cloud Development Kit (Go CDK): A library and tools for open cloud development in Go.',\n",
       " 'fork': False,\n",
       " 'url': 'https://api.github.com/repos/google/go-cloud',\n",
       " 'forks_url': 'https://api.github.com/repos/google/go-cloud/forks',\n",
       " 'keys_url': 'https://api.github.com/repos/google/go-cloud/keys{/key_id}',\n",
       " 'collaborators_url': 'https://api.github.com/repos/google/go-cloud/collaborators{/collaborator}',\n",
       " 'teams_url': 'https://api.github.com/repos/google/go-cloud/teams',\n",
       " 'hooks_url': 'https://api.github.com/repos/google/go-cloud/hooks',\n",
       " 'issue_events_url': 'https://api.github.com/repos/google/go-cloud/issues/events{/number}',\n",
       " 'events_url': 'https://api.github.com/repos/google/go-cloud/events',\n",
       " 'assignees_url': 'https://api.github.com/repos/google/go-cloud/assignees{/user}',\n",
       " 'branches_url': 'https://api.github.com/repos/google/go-cloud/branches{/branch}',\n",
       " 'tags_url': 'https://api.github.com/repos/google/go-cloud/tags',\n",
       " 'blobs_url': 'https://api.github.com/repos/google/go-cloud/git/blobs{/sha}',\n",
       " 'git_tags_url': 'https://api.github.com/repos/google/go-cloud/git/tags{/sha}',\n",
       " 'git_refs_url': 'https://api.github.com/repos/google/go-cloud/git/refs{/sha}',\n",
       " 'trees_url': 'https://api.github.com/repos/google/go-cloud/git/trees{/sha}',\n",
       " 'statuses_url': 'https://api.github.com/repos/google/go-cloud/statuses/{sha}',\n",
       " 'languages_url': 'https://api.github.com/repos/google/go-cloud/languages',\n",
       " 'stargazers_url': 'https://api.github.com/repos/google/go-cloud/stargazers',\n",
       " 'contributors_url': 'https://api.github.com/repos/google/go-cloud/contributors',\n",
       " 'subscribers_url': 'https://api.github.com/repos/google/go-cloud/subscribers',\n",
       " 'subscription_url': 'https://api.github.com/repos/google/go-cloud/subscription',\n",
       " 'commits_url': 'https://api.github.com/repos/google/go-cloud/commits{/sha}',\n",
       " 'git_commits_url': 'https://api.github.com/repos/google/go-cloud/git/commits{/sha}',\n",
       " 'comments_url': 'https://api.github.com/repos/google/go-cloud/comments{/number}',\n",
       " 'issue_comment_url': 'https://api.github.com/repos/google/go-cloud/issues/comments{/number}',\n",
       " 'contents_url': 'https://api.github.com/repos/google/go-cloud/contents/{+path}',\n",
       " 'compare_url': 'https://api.github.com/repos/google/go-cloud/compare/{base}...{head}',\n",
       " 'merges_url': 'https://api.github.com/repos/google/go-cloud/merges',\n",
       " 'archive_url': 'https://api.github.com/repos/google/go-cloud/{archive_format}{/ref}',\n",
       " 'downloads_url': 'https://api.github.com/repos/google/go-cloud/downloads',\n",
       " 'issues_url': 'https://api.github.com/repos/google/go-cloud/issues{/number}',\n",
       " 'pulls_url': 'https://api.github.com/repos/google/go-cloud/pulls{/number}',\n",
       " 'milestones_url': 'https://api.github.com/repos/google/go-cloud/milestones{/number}',\n",
       " 'notifications_url': 'https://api.github.com/repos/google/go-cloud/notifications{?since,all,participating}',\n",
       " 'labels_url': 'https://api.github.com/repos/google/go-cloud/labels{/name}',\n",
       " 'releases_url': 'https://api.github.com/repos/google/go-cloud/releases{/id}',\n",
       " 'deployments_url': 'https://api.github.com/repos/google/go-cloud/deployments',\n",
       " 'created_at': '2018-03-21T22:57:26Z',\n",
       " 'updated_at': '2020-02-22T04:09:11Z',\n",
       " 'pushed_at': '2020-02-21T20:49:52Z',\n",
       " 'git_url': 'git://github.com/google/go-cloud.git',\n",
       " 'ssh_url': 'git@github.com:google/go-cloud.git',\n",
       " 'clone_url': 'https://github.com/google/go-cloud.git',\n",
       " 'svn_url': 'https://github.com/google/go-cloud',\n",
       " 'homepage': 'https://gocloud.dev/',\n",
       " 'size': 29501,\n",
       " 'stargazers_count': 6830,\n",
       " 'watchers_count': 6830,\n",
       " 'language': 'Go',\n",
       " 'has_issues': True,\n",
       " 'has_projects': False,\n",
       " 'has_downloads': True,\n",
       " 'has_wiki': False,\n",
       " 'has_pages': True,\n",
       " 'forks_count': 518,\n",
       " 'mirror_url': None,\n",
       " 'archived': False,\n",
       " 'disabled': False,\n",
       " 'open_issues_count': 60,\n",
       " 'license': {'key': 'apache-2.0',\n",
       "  'name': 'Apache License 2.0',\n",
       "  'spdx_id': 'Apache-2.0',\n",
       "  'url': 'https://api.github.com/licenses/apache-2.0',\n",
       "  'node_id': 'MDc6TGljZW5zZTI='},\n",
       " 'forks': 518,\n",
       " 'open_issues': 60,\n",
       " 'watchers': 6830,\n",
       " 'default_branch': 'master',\n",
       " 'permissions': {'admin': False, 'push': False, 'pull': True},\n",
       " 'temp_clone_token': '',\n",
       " 'organization': {'login': 'google',\n",
       "  'id': 1342004,\n",
       "  'node_id': 'MDEyOk9yZ2FuaXphdGlvbjEzNDIwMDQ=',\n",
       "  'avatar_url': 'https://avatars1.githubusercontent.com/u/1342004?v=4',\n",
       "  'gravatar_id': '',\n",
       "  'url': 'https://api.github.com/users/google',\n",
       "  'html_url': 'https://github.com/google',\n",
       "  'followers_url': 'https://api.github.com/users/google/followers',\n",
       "  'following_url': 'https://api.github.com/users/google/following{/other_user}',\n",
       "  'gists_url': 'https://api.github.com/users/google/gists{/gist_id}',\n",
       "  'starred_url': 'https://api.github.com/users/google/starred{/owner}{/repo}',\n",
       "  'subscriptions_url': 'https://api.github.com/users/google/subscriptions',\n",
       "  'organizations_url': 'https://api.github.com/users/google/orgs',\n",
       "  'repos_url': 'https://api.github.com/users/google/repos',\n",
       "  'events_url': 'https://api.github.com/users/google/events{/privacy}',\n",
       "  'received_events_url': 'https://api.github.com/users/google/received_events',\n",
       "  'type': 'Organization',\n",
       "  'site_admin': False},\n",
       " 'network_count': 518,\n",
       " 'subscribers_count': 239}"
      ]
     },
     "execution_count": 14,
     "metadata": {},
     "output_type": "execute_result"
    }
   ],
   "source": [
    "python=json.loads(a.text)\n",
    "python"
   ]
  },
  {
   "cell_type": "code",
   "execution_count": 47,
   "metadata": {},
   "outputs": [],
   "source": [
    "license= python['license']['name']\n",
    "watchers= python['watchers']\n",
    "owner=python['owner']['login']"
   ]
  },
  {
   "cell_type": "code",
   "execution_count": 48,
   "metadata": {},
   "outputs": [
    {
     "name": "stdout",
     "output_type": "stream",
     "text": [
      "License: Apache License 2.0\n",
      "Owner: google\n",
      "Watchers: 6830\n"
     ]
    }
   ],
   "source": [
    "print(f'License: {license}')\n",
    "print(f'Owner: {owner}')\n",
    "print(f'Watchers: {watchers}')"
   ]
  }
 ],
 "metadata": {
  "kernelspec": {
   "display_name": "Python 3",
   "language": "python",
   "name": "python3"
  },
  "language_info": {
   "codemirror_mode": {
    "name": "ipython",
    "version": 3
   },
   "file_extension": ".py",
   "mimetype": "text/x-python",
   "name": "python",
   "nbconvert_exporter": "python",
   "pygments_lexer": "ipython3",
   "version": "3.7.1"
  }
 },
 "nbformat": 4,
 "nbformat_minor": 2
}
